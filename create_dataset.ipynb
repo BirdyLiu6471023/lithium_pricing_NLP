{
 "cells": [
  {
   "cell_type": "code",
   "execution_count": 1,
   "id": "3e520016",
   "metadata": {},
   "outputs": [],
   "source": [
    "## import library \n",
    "import warnings\n",
    "warnings.filterwarnings('ignore')\n",
    "\n",
    "import numpy as np\n",
    "from utilities import *\n",
    "import pandas as pd\n",
    "import seaborn as sns\n",
    "import scanpy as sc \n",
    "\n",
    "def convert_string_to_float(s):\n",
    "    s_without_commas = s.replace(',', '')\n",
    "    return float(s_without_commas)\n",
    "\n",
    "sns.set_style('whitegrid')"
   ]
  },
  {
   "cell_type": "markdown",
   "id": "4f4c3608",
   "metadata": {},
   "source": [
    "### News - Price Modelling\n",
    "\n",
    "**Hypothesis:** \n",
    "\n",
    "1) News content could have effect on prices in the following day, \n",
    "\n",
    "2) **but the market still need several days to response**. \n",
    "\n",
    "#### Lithium Price \n",
    "\n",
    "Day-1, Day-2, Day-3, Day-6, Day-9, Day-12\n",
    "\n",
    "#### News Data Set Engineering: \n",
    "\n",
    "1) Vectorize the text data\n",
    "\n",
    "2) Create vocabulary to each article, vectorized using TD-IDF. \n",
    "\n",
    "4) Create vocabulary to each day, vectorized using TD-IDF. \n",
    "\n",
    "**Using the vectors as features to build model (Random Forest, Linear Regression and etc.)**"
   ]
  },
  {
   "cell_type": "markdown",
   "id": "4cc855b7",
   "metadata": {},
   "source": [
    "## Lithium Close Price: "
   ]
  },
  {
   "cell_type": "code",
   "execution_count": 3,
   "id": "4af76619",
   "metadata": {},
   "outputs": [
    {
     "data": {
      "text/html": [
       "<div>\n",
       "<style scoped>\n",
       "    .dataframe tbody tr th:only-of-type {\n",
       "        vertical-align: middle;\n",
       "    }\n",
       "\n",
       "    .dataframe tbody tr th {\n",
       "        vertical-align: top;\n",
       "    }\n",
       "\n",
       "    .dataframe thead th {\n",
       "        text-align: right;\n",
       "    }\n",
       "</style>\n",
       "<table border=\"1\" class=\"dataframe\">\n",
       "  <thead>\n",
       "    <tr style=\"text-align: right;\">\n",
       "      <th></th>\n",
       "      <th>date</th>\n",
       "      <th>open</th>\n",
       "      <th>high</th>\n",
       "      <th>low</th>\n",
       "      <th>close</th>\n",
       "      <th>change</th>\n",
       "      <th>volume</th>\n",
       "    </tr>\n",
       "  </thead>\n",
       "  <tbody>\n",
       "    <tr>\n",
       "      <th>0</th>\n",
       "      <td>2023-05-22</td>\n",
       "      <td>227500.0</td>\n",
       "      <td>230000.0</td>\n",
       "      <td>225000.0</td>\n",
       "      <td>227500.0</td>\n",
       "      <td>0.00</td>\n",
       "      <td>0</td>\n",
       "    </tr>\n",
       "    <tr>\n",
       "      <th>1</th>\n",
       "      <td>2023-05-19</td>\n",
       "      <td>227500.0</td>\n",
       "      <td>230000.0</td>\n",
       "      <td>225000.0</td>\n",
       "      <td>227500.0</td>\n",
       "      <td>0.00</td>\n",
       "      <td>0</td>\n",
       "    </tr>\n",
       "    <tr>\n",
       "      <th>2</th>\n",
       "      <td>2023-05-18</td>\n",
       "      <td>227500.0</td>\n",
       "      <td>230000.0</td>\n",
       "      <td>225000.0</td>\n",
       "      <td>227500.0</td>\n",
       "      <td>0.00</td>\n",
       "      <td>0</td>\n",
       "    </tr>\n",
       "    <tr>\n",
       "      <th>3</th>\n",
       "      <td>2023-05-16</td>\n",
       "      <td>227500.0</td>\n",
       "      <td>230000.0</td>\n",
       "      <td>225000.0</td>\n",
       "      <td>227500.0</td>\n",
       "      <td>9.64</td>\n",
       "      <td>0</td>\n",
       "    </tr>\n",
       "    <tr>\n",
       "      <th>4</th>\n",
       "      <td>2023-05-15</td>\n",
       "      <td>207500.0</td>\n",
       "      <td>210000.0</td>\n",
       "      <td>205000.0</td>\n",
       "      <td>207500.0</td>\n",
       "      <td>2.47</td>\n",
       "      <td>0</td>\n",
       "    </tr>\n",
       "  </tbody>\n",
       "</table>\n",
       "</div>"
      ],
      "text/plain": [
       "         date      open      high       low     close  change  volume\n",
       "0  2023-05-22  227500.0  230000.0  225000.0  227500.0    0.00       0\n",
       "1  2023-05-19  227500.0  230000.0  225000.0  227500.0    0.00       0\n",
       "2  2023-05-18  227500.0  230000.0  225000.0  227500.0    0.00       0\n",
       "3  2023-05-16  227500.0  230000.0  225000.0  227500.0    9.64       0\n",
       "4  2023-05-15  207500.0  210000.0  205000.0  207500.0    2.47       0"
      ]
     },
     "execution_count": 3,
     "metadata": {},
     "output_type": "execute_result"
    }
   ],
   "source": [
    "price = pd.read_excel(\"Data/lithium_price.xlsx\")\n",
    "price.Date = price.Date.apply(transform_date_price)\n",
    "price[[\"Open\", \"High\", \"Low\",\"Close\"]] = price[[\"Open\", \"High\", \"Low\",\"Close\"]].applymap(convert_string_to_float)\n",
    "price.columns = ['date', 'open', 'high','low','close','change','volume']\n",
    "price.head()"
   ]
  },
  {
   "cell_type": "code",
   "execution_count": 4,
   "id": "69a1a6cc",
   "metadata": {},
   "outputs": [
    {
     "name": "stdout",
     "output_type": "stream",
     "text": [
      "<class 'pandas.core.frame.DataFrame'>\n",
      "RangeIndex: 1496 entries, 0 to 1495\n",
      "Data columns (total 7 columns):\n",
      " #   Column  Non-Null Count  Dtype  \n",
      "---  ------  --------------  -----  \n",
      " 0   date    1496 non-null   object \n",
      " 1   open    1496 non-null   float64\n",
      " 2   high    1496 non-null   float64\n",
      " 3   low     1496 non-null   float64\n",
      " 4   close   1496 non-null   float64\n",
      " 5   change  1496 non-null   float64\n",
      " 6   volume  1496 non-null   int64  \n",
      "dtypes: float64(5), int64(1), object(1)\n",
      "memory usage: 81.9+ KB\n"
     ]
    }
   ],
   "source": [
    "price.info()"
   ]
  },
  {
   "cell_type": "code",
   "execution_count": 5,
   "id": "b07ca0ca",
   "metadata": {},
   "outputs": [
    {
     "data": {
      "text/html": [
       "<div>\n",
       "<style scoped>\n",
       "    .dataframe tbody tr th:only-of-type {\n",
       "        vertical-align: middle;\n",
       "    }\n",
       "\n",
       "    .dataframe tbody tr th {\n",
       "        vertical-align: top;\n",
       "    }\n",
       "\n",
       "    .dataframe thead th {\n",
       "        text-align: right;\n",
       "    }\n",
       "</style>\n",
       "<table border=\"1\" class=\"dataframe\">\n",
       "  <thead>\n",
       "    <tr style=\"text-align: right;\">\n",
       "      <th></th>\n",
       "      <th>open</th>\n",
       "      <th>high</th>\n",
       "      <th>low</th>\n",
       "      <th>close</th>\n",
       "      <th>change</th>\n",
       "      <th>volume</th>\n",
       "    </tr>\n",
       "  </thead>\n",
       "  <tbody>\n",
       "    <tr>\n",
       "      <th>count</th>\n",
       "      <td>1496.000000</td>\n",
       "      <td>1.496000e+03</td>\n",
       "      <td>1496.000000</td>\n",
       "      <td>1496.00000</td>\n",
       "      <td>1496.000000</td>\n",
       "      <td>1496.0</td>\n",
       "    </tr>\n",
       "    <tr>\n",
       "      <th>mean</th>\n",
       "      <td>176102.774064</td>\n",
       "      <td>1.883190e+05</td>\n",
       "      <td>174262.867647</td>\n",
       "      <td>176106.11631</td>\n",
       "      <td>0.042807</td>\n",
       "      <td>0.0</td>\n",
       "    </tr>\n",
       "    <tr>\n",
       "      <th>std</th>\n",
       "      <td>160633.071635</td>\n",
       "      <td>2.962744e+05</td>\n",
       "      <td>160111.054299</td>\n",
       "      <td>160633.04864</td>\n",
       "      <td>1.317982</td>\n",
       "      <td>0.0</td>\n",
       "    </tr>\n",
       "    <tr>\n",
       "      <th>min</th>\n",
       "      <td>39000.000000</td>\n",
       "      <td>3.900000e+04</td>\n",
       "      <td>39000.000000</td>\n",
       "      <td>39000.00000</td>\n",
       "      <td>-10.580000</td>\n",
       "      <td>0.0</td>\n",
       "    </tr>\n",
       "    <tr>\n",
       "      <th>25%</th>\n",
       "      <td>65500.000000</td>\n",
       "      <td>6.650000e+04</td>\n",
       "      <td>64500.000000</td>\n",
       "      <td>65500.00000</td>\n",
       "      <td>0.000000</td>\n",
       "      <td>0.0</td>\n",
       "    </tr>\n",
       "    <tr>\n",
       "      <th>50%</th>\n",
       "      <td>97000.000000</td>\n",
       "      <td>9.950000e+04</td>\n",
       "      <td>94000.000000</td>\n",
       "      <td>97000.00000</td>\n",
       "      <td>0.000000</td>\n",
       "      <td>0.0</td>\n",
       "    </tr>\n",
       "    <tr>\n",
       "      <th>75%</th>\n",
       "      <td>192500.000000</td>\n",
       "      <td>1.950000e+05</td>\n",
       "      <td>190000.000000</td>\n",
       "      <td>192500.00000</td>\n",
       "      <td>0.000000</td>\n",
       "      <td>0.0</td>\n",
       "    </tr>\n",
       "    <tr>\n",
       "      <th>max</th>\n",
       "      <td>597500.000000</td>\n",
       "      <td>5.750000e+06</td>\n",
       "      <td>595000.000000</td>\n",
       "      <td>597500.00000</td>\n",
       "      <td>20.570000</td>\n",
       "      <td>0.0</td>\n",
       "    </tr>\n",
       "  </tbody>\n",
       "</table>\n",
       "</div>"
      ],
      "text/plain": [
       "                open          high            low         close       change  \\\n",
       "count    1496.000000  1.496000e+03    1496.000000    1496.00000  1496.000000   \n",
       "mean   176102.774064  1.883190e+05  174262.867647  176106.11631     0.042807   \n",
       "std    160633.071635  2.962744e+05  160111.054299  160633.04864     1.317982   \n",
       "min     39000.000000  3.900000e+04   39000.000000   39000.00000   -10.580000   \n",
       "25%     65500.000000  6.650000e+04   64500.000000   65500.00000     0.000000   \n",
       "50%     97000.000000  9.950000e+04   94000.000000   97000.00000     0.000000   \n",
       "75%    192500.000000  1.950000e+05  190000.000000  192500.00000     0.000000   \n",
       "max    597500.000000  5.750000e+06  595000.000000  597500.00000    20.570000   \n",
       "\n",
       "       volume  \n",
       "count  1496.0  \n",
       "mean      0.0  \n",
       "std       0.0  \n",
       "min       0.0  \n",
       "25%       0.0  \n",
       "50%       0.0  \n",
       "75%       0.0  \n",
       "max       0.0  "
      ]
     },
     "execution_count": 5,
     "metadata": {},
     "output_type": "execute_result"
    }
   ],
   "source": [
    "price.describe()"
   ]
  },
  {
   "cell_type": "code",
   "execution_count": 6,
   "id": "91e7d067",
   "metadata": {},
   "outputs": [
    {
     "data": {
      "text/plain": [
       "count           1496\n",
       "unique          1496\n",
       "top       2023-05-22\n",
       "freq               1\n",
       "Name: date, dtype: object"
      ]
     },
     "execution_count": 6,
     "metadata": {},
     "output_type": "execute_result"
    }
   ],
   "source": [
    "price.date.describe()"
   ]
  },
  {
   "cell_type": "code",
   "execution_count": 7,
   "id": "1bec05e0",
   "metadata": {},
   "outputs": [],
   "source": [
    "price_close = pd.DataFrame(price.close)\n",
    "price_close.index = price.date"
   ]
  },
  {
   "cell_type": "code",
   "execution_count": 8,
   "id": "01bba512",
   "metadata": {},
   "outputs": [],
   "source": [
    "price_close.sort_index(inplace = True, ascending = False)"
   ]
  },
  {
   "cell_type": "code",
   "execution_count": 9,
   "id": "802f1503",
   "metadata": {},
   "outputs": [
    {
     "data": {
      "text/html": [
       "<div>\n",
       "<style scoped>\n",
       "    .dataframe tbody tr th:only-of-type {\n",
       "        vertical-align: middle;\n",
       "    }\n",
       "\n",
       "    .dataframe tbody tr th {\n",
       "        vertical-align: top;\n",
       "    }\n",
       "\n",
       "    .dataframe thead th {\n",
       "        text-align: right;\n",
       "    }\n",
       "</style>\n",
       "<table border=\"1\" class=\"dataframe\">\n",
       "  <thead>\n",
       "    <tr style=\"text-align: right;\">\n",
       "      <th></th>\n",
       "      <th>close</th>\n",
       "    </tr>\n",
       "    <tr>\n",
       "      <th>date</th>\n",
       "      <th></th>\n",
       "    </tr>\n",
       "  </thead>\n",
       "  <tbody>\n",
       "    <tr>\n",
       "      <th>2017-05-16</th>\n",
       "      <td>136000.0</td>\n",
       "    </tr>\n",
       "    <tr>\n",
       "      <th>2017-05-15</th>\n",
       "      <td>136000.0</td>\n",
       "    </tr>\n",
       "    <tr>\n",
       "      <th>2017-05-12</th>\n",
       "      <td>136000.0</td>\n",
       "    </tr>\n",
       "    <tr>\n",
       "      <th>2017-05-11</th>\n",
       "      <td>136000.0</td>\n",
       "    </tr>\n",
       "    <tr>\n",
       "      <th>2017-05-10</th>\n",
       "      <td>136000.0</td>\n",
       "    </tr>\n",
       "  </tbody>\n",
       "</table>\n",
       "</div>"
      ],
      "text/plain": [
       "               close\n",
       "date                \n",
       "2017-05-16  136000.0\n",
       "2017-05-15  136000.0\n",
       "2017-05-12  136000.0\n",
       "2017-05-11  136000.0\n",
       "2017-05-10  136000.0"
      ]
     },
     "execution_count": 9,
     "metadata": {},
     "output_type": "execute_result"
    }
   ],
   "source": [
    "price_close.tail()"
   ]
  },
  {
   "cell_type": "code",
   "execution_count": 10,
   "id": "c3d72757",
   "metadata": {},
   "outputs": [
    {
     "data": {
      "text/html": [
       "<div>\n",
       "<style scoped>\n",
       "    .dataframe tbody tr th:only-of-type {\n",
       "        vertical-align: middle;\n",
       "    }\n",
       "\n",
       "    .dataframe tbody tr th {\n",
       "        vertical-align: top;\n",
       "    }\n",
       "\n",
       "    .dataframe thead th {\n",
       "        text-align: right;\n",
       "    }\n",
       "</style>\n",
       "<table border=\"1\" class=\"dataframe\">\n",
       "  <thead>\n",
       "    <tr style=\"text-align: right;\">\n",
       "      <th></th>\n",
       "      <th>close</th>\n",
       "    </tr>\n",
       "    <tr>\n",
       "      <th>date</th>\n",
       "      <th></th>\n",
       "    </tr>\n",
       "  </thead>\n",
       "  <tbody>\n",
       "    <tr>\n",
       "      <th>2023-05-22</th>\n",
       "      <td>227500.0</td>\n",
       "    </tr>\n",
       "    <tr>\n",
       "      <th>2023-05-19</th>\n",
       "      <td>227500.0</td>\n",
       "    </tr>\n",
       "    <tr>\n",
       "      <th>2023-05-18</th>\n",
       "      <td>227500.0</td>\n",
       "    </tr>\n",
       "    <tr>\n",
       "      <th>2023-05-16</th>\n",
       "      <td>227500.0</td>\n",
       "    </tr>\n",
       "    <tr>\n",
       "      <th>2023-05-15</th>\n",
       "      <td>207500.0</td>\n",
       "    </tr>\n",
       "  </tbody>\n",
       "</table>\n",
       "</div>"
      ],
      "text/plain": [
       "               close\n",
       "date                \n",
       "2023-05-22  227500.0\n",
       "2023-05-19  227500.0\n",
       "2023-05-18  227500.0\n",
       "2023-05-16  227500.0\n",
       "2023-05-15  207500.0"
      ]
     },
     "execution_count": 10,
     "metadata": {},
     "output_type": "execute_result"
    }
   ],
   "source": [
    "price_close.head()"
   ]
  },
  {
   "cell_type": "markdown",
   "id": "9ad87cee",
   "metadata": {},
   "source": [
    "#### Close Price Engineering: \n",
    "\n",
    "1. Group the news by the date, and normalize the words \n",
    "2. Create Day-1, Day-2, Day-3, Day-6, Day-9, Day-12 value for each day. "
   ]
  },
  {
   "cell_type": "code",
   "execution_count": 11,
   "id": "f036b091",
   "metadata": {},
   "outputs": [
    {
     "name": "stdout",
     "output_type": "stream",
     "text": [
      "<class 'pandas.core.frame.DataFrame'>\n",
      "MultiIndex: 1484 entries, ('close', '2023-05-03') to ('close', '2017-05-10')\n",
      "Data columns (total 6 columns):\n",
      " #   Column      Non-Null Count  Dtype  \n",
      "---  ------      --------------  -----  \n",
      " 0   return_1d   1484 non-null   float64\n",
      " 1   return_2d   1484 non-null   float64\n",
      " 2   return_3d   1484 non-null   float64\n",
      " 3   return_6d   1484 non-null   float64\n",
      " 4   return_9d   1484 non-null   float64\n",
      " 5   return_12d  1484 non-null   float64\n",
      "dtypes: float64(6)\n",
      "memory usage: 118.1+ KB\n"
     ]
    }
   ],
   "source": [
    "outlier_cutoff = 0.01\n",
    "data_eng = pd.DataFrame()\n",
    "lags = [1, 2, 3, 6, 9, 12]\n",
    "for lag in lags:\n",
    "    data_eng [f'return_{lag}d'] = -(price_close\n",
    "                           .pct_change(lag)\n",
    "                           .stack()\n",
    "                           .pipe(lambda x: x.clip(lower=x.quantile(outlier_cutoff),\n",
    "                                                  upper=x.quantile(1-outlier_cutoff)))\n",
    "                           .add(1)\n",
    "                           .pow(1/lag)\n",
    "                           .sub(1)\n",
    "                           )\n",
    "data_eng  = data_eng.swaplevel().dropna()\n",
    "data_eng .info()"
   ]
  },
  {
   "cell_type": "code",
   "execution_count": 12,
   "id": "fe3d7812",
   "metadata": {},
   "outputs": [
    {
     "data": {
      "text/html": [
       "<div>\n",
       "<style scoped>\n",
       "    .dataframe tbody tr th:only-of-type {\n",
       "        vertical-align: middle;\n",
       "    }\n",
       "\n",
       "    .dataframe tbody tr th {\n",
       "        vertical-align: top;\n",
       "    }\n",
       "\n",
       "    .dataframe thead th {\n",
       "        text-align: right;\n",
       "    }\n",
       "</style>\n",
       "<table border=\"1\" class=\"dataframe\">\n",
       "  <thead>\n",
       "    <tr style=\"text-align: right;\">\n",
       "      <th></th>\n",
       "      <th></th>\n",
       "      <th>return_1d</th>\n",
       "      <th>return_2d</th>\n",
       "      <th>return_3d</th>\n",
       "      <th>return_6d</th>\n",
       "      <th>return_9d</th>\n",
       "      <th>return_12d</th>\n",
       "    </tr>\n",
       "    <tr>\n",
       "      <th></th>\n",
       "      <th>date</th>\n",
       "      <th></th>\n",
       "      <th></th>\n",
       "      <th></th>\n",
       "      <th></th>\n",
       "      <th></th>\n",
       "      <th></th>\n",
       "    </tr>\n",
       "  </thead>\n",
       "  <tbody>\n",
       "    <tr>\n",
       "      <th rowspan=\"11\" valign=\"top\">close</th>\n",
       "      <th>2023-05-03</th>\n",
       "      <td>-0.000000</td>\n",
       "      <td>-0.000000</td>\n",
       "      <td>0.026679</td>\n",
       "      <td>0.021722</td>\n",
       "      <td>0.020897</td>\n",
       "      <td>0.020007</td>\n",
       "    </tr>\n",
       "    <tr>\n",
       "      <th>2023-05-02</th>\n",
       "      <td>-0.000000</td>\n",
       "      <td>-0.000000</td>\n",
       "      <td>-0.000000</td>\n",
       "      <td>0.017637</td>\n",
       "      <td>0.017202</td>\n",
       "      <td>0.020007</td>\n",
       "    </tr>\n",
       "    <tr>\n",
       "      <th>2023-04-30</th>\n",
       "      <td>0.028169</td>\n",
       "      <td>0.014185</td>\n",
       "      <td>0.009479</td>\n",
       "      <td>0.022304</td>\n",
       "      <td>0.017658</td>\n",
       "      <td>0.020007</td>\n",
       "    </tr>\n",
       "    <tr>\n",
       "      <th>2023-04-28</th>\n",
       "      <td>-0.000000</td>\n",
       "      <td>0.014185</td>\n",
       "      <td>0.009479</td>\n",
       "      <td>0.018117</td>\n",
       "      <td>0.017658</td>\n",
       "      <td>0.020007</td>\n",
       "    </tr>\n",
       "    <tr>\n",
       "      <th>2023-04-27</th>\n",
       "      <td>0.032592</td>\n",
       "      <td>0.020500</td>\n",
       "      <td>0.023063</td>\n",
       "      <td>0.011599</td>\n",
       "      <td>0.019449</td>\n",
       "      <td>0.018670</td>\n",
       "    </tr>\n",
       "    <tr>\n",
       "      <th>...</th>\n",
       "      <td>...</td>\n",
       "      <td>...</td>\n",
       "      <td>...</td>\n",
       "      <td>...</td>\n",
       "      <td>...</td>\n",
       "      <td>...</td>\n",
       "    </tr>\n",
       "    <tr>\n",
       "      <th>2017-05-16</th>\n",
       "      <td>-0.000000</td>\n",
       "      <td>-0.000000</td>\n",
       "      <td>0.011963</td>\n",
       "      <td>0.005999</td>\n",
       "      <td>0.004004</td>\n",
       "      <td>0.004174</td>\n",
       "    </tr>\n",
       "    <tr>\n",
       "      <th>2017-05-15</th>\n",
       "      <td>-0.000000</td>\n",
       "      <td>-0.000000</td>\n",
       "      <td>-0.000000</td>\n",
       "      <td>0.005999</td>\n",
       "      <td>0.004004</td>\n",
       "      <td>0.004174</td>\n",
       "    </tr>\n",
       "    <tr>\n",
       "      <th>2017-05-12</th>\n",
       "      <td>-0.000000</td>\n",
       "      <td>-0.000000</td>\n",
       "      <td>-0.000000</td>\n",
       "      <td>0.005999</td>\n",
       "      <td>0.004004</td>\n",
       "      <td>0.003004</td>\n",
       "    </tr>\n",
       "    <tr>\n",
       "      <th>2017-05-11</th>\n",
       "      <td>-0.000000</td>\n",
       "      <td>-0.000000</td>\n",
       "      <td>-0.000000</td>\n",
       "      <td>0.005999</td>\n",
       "      <td>0.004004</td>\n",
       "      <td>0.003004</td>\n",
       "    </tr>\n",
       "    <tr>\n",
       "      <th>2017-05-10</th>\n",
       "      <td>-0.000000</td>\n",
       "      <td>-0.000000</td>\n",
       "      <td>-0.000000</td>\n",
       "      <td>-0.000000</td>\n",
       "      <td>0.004004</td>\n",
       "      <td>0.003004</td>\n",
       "    </tr>\n",
       "  </tbody>\n",
       "</table>\n",
       "<p>1484 rows × 6 columns</p>\n",
       "</div>"
      ],
      "text/plain": [
       "                  return_1d  return_2d  return_3d  return_6d  return_9d  \\\n",
       "      date                                                                \n",
       "close 2023-05-03  -0.000000  -0.000000   0.026679   0.021722   0.020897   \n",
       "      2023-05-02  -0.000000  -0.000000  -0.000000   0.017637   0.017202   \n",
       "      2023-04-30   0.028169   0.014185   0.009479   0.022304   0.017658   \n",
       "      2023-04-28  -0.000000   0.014185   0.009479   0.018117   0.017658   \n",
       "      2023-04-27   0.032592   0.020500   0.023063   0.011599   0.019449   \n",
       "...                     ...        ...        ...        ...        ...   \n",
       "      2017-05-16  -0.000000  -0.000000   0.011963   0.005999   0.004004   \n",
       "      2017-05-15  -0.000000  -0.000000  -0.000000   0.005999   0.004004   \n",
       "      2017-05-12  -0.000000  -0.000000  -0.000000   0.005999   0.004004   \n",
       "      2017-05-11  -0.000000  -0.000000  -0.000000   0.005999   0.004004   \n",
       "      2017-05-10  -0.000000  -0.000000  -0.000000  -0.000000   0.004004   \n",
       "\n",
       "                  return_12d  \n",
       "      date                    \n",
       "close 2023-05-03    0.020007  \n",
       "      2023-05-02    0.020007  \n",
       "      2023-04-30    0.020007  \n",
       "      2023-04-28    0.020007  \n",
       "      2023-04-27    0.018670  \n",
       "...                      ...  \n",
       "      2017-05-16    0.004174  \n",
       "      2017-05-15    0.004174  \n",
       "      2017-05-12    0.003004  \n",
       "      2017-05-11    0.003004  \n",
       "      2017-05-10    0.003004  \n",
       "\n",
       "[1484 rows x 6 columns]"
      ]
     },
     "execution_count": 12,
     "metadata": {},
     "output_type": "execute_result"
    }
   ],
   "source": [
    "data_eng"
   ]
  },
  {
   "cell_type": "code",
   "execution_count": 14,
   "id": "34f6376d",
   "metadata": {},
   "outputs": [
    {
     "data": {
      "image/png": "[encoded data removed]",
      "text/plain": [
       "<Figure size 720x720 with 4 Axes>"
      ]
     },
     "metadata": {
      "needs_background": "light"
     },
     "output_type": "display_data"
    }
   ],
   "source": [
    "sns.clustermap(data_eng.corr('spearman'), annot=True, center=0, cmap='Blues');"
   ]
  },
  {
   "cell_type": "markdown",
   "id": "a67e67ff",
   "metadata": {},
   "source": [
    "## News Dataset:"
   ]
  },
  {
   "cell_type": "code",
   "execution_count": 15,
   "id": "0bde5fae",
   "metadata": {},
   "outputs": [
    {
     "name": "stdout",
     "output_type": "stream",
     "text": [
      "<class 'pandas.core.frame.DataFrame'>\n",
      "RangeIndex: 8313 entries, 0 to 8312\n",
      "Data columns (total 2 columns):\n",
      " #   Column  Non-Null Count  Dtype \n",
      "---  ------  --------------  ----- \n",
      " 0   date    8313 non-null   object\n",
      " 1   url     8313 non-null   object\n",
      "dtypes: object(2)\n",
      "memory usage: 130.0+ KB\n"
     ]
    }
   ],
   "source": [
    "news_link = pd.read_csv('Data/lithium_merged.csv')[[\"DATE\", \"DocumentIdentifier\"]]\n",
    "# transfer the date into correct format: \n",
    "news_link.DATE = news_link.DATE.apply(transform_date_news)\n",
    "news_link.columns = ['date', 'url']\n",
    "news_link.set_index('date')\n",
    "news_link.info()"
   ]
  },
  {
   "cell_type": "code",
   "execution_count": 16,
   "id": "58f243d1",
   "metadata": {},
   "outputs": [
    {
     "data": {
      "text/html": [
       "<div>\n",
       "<style scoped>\n",
       "    .dataframe tbody tr th:only-of-type {\n",
       "        vertical-align: middle;\n",
       "    }\n",
       "\n",
       "    .dataframe tbody tr th {\n",
       "        vertical-align: top;\n",
       "    }\n",
       "\n",
       "    .dataframe thead th {\n",
       "        text-align: right;\n",
       "    }\n",
       "</style>\n",
       "<table border=\"1\" class=\"dataframe\">\n",
       "  <thead>\n",
       "    <tr style=\"text-align: right;\">\n",
       "      <th></th>\n",
       "      <th>date</th>\n",
       "      <th>url</th>\n",
       "    </tr>\n",
       "  </thead>\n",
       "  <tbody>\n",
       "    <tr>\n",
       "      <th>count</th>\n",
       "      <td>8313</td>\n",
       "      <td>8313</td>\n",
       "    </tr>\n",
       "    <tr>\n",
       "      <th>unique</th>\n",
       "      <td>2043</td>\n",
       "      <td>8311</td>\n",
       "    </tr>\n",
       "    <tr>\n",
       "      <th>top</th>\n",
       "      <td>2023-04-21</td>\n",
       "      <td>https://mrtopstep.com/peak-asset-morning-wrap-...</td>\n",
       "    </tr>\n",
       "    <tr>\n",
       "      <th>freq</th>\n",
       "      <td>60</td>\n",
       "      <td>2</td>\n",
       "    </tr>\n",
       "  </tbody>\n",
       "</table>\n",
       "</div>"
      ],
      "text/plain": [
       "              date                                                url\n",
       "count         8313                                               8313\n",
       "unique        2043                                               8311\n",
       "top     2023-04-21  https://mrtopstep.com/peak-asset-morning-wrap-...\n",
       "freq            60                                                  2"
      ]
     },
     "execution_count": 16,
     "metadata": {},
     "output_type": "execute_result"
    }
   ],
   "source": [
    "news_link.describe()"
   ]
  },
  {
   "cell_type": "code",
   "execution_count": 17,
   "id": "e18c6ea6",
   "metadata": {},
   "outputs": [],
   "source": [
    "news_link=news_link.set_index('date')\n",
    "news_link.sort_index(inplace = True, ascending = False)"
   ]
  },
  {
   "cell_type": "code",
   "execution_count": 24,
   "id": "f4f65951",
   "metadata": {},
   "outputs": [],
   "source": [
    "news_link_test = news_link.loc[(news_link.index >= '2020-05-01') & (news_link.index <= '2023-05-01')]\n",
    "news_link_test[\"text\"] = news_link_test.url.apply(get_clean_text)"
   ]
  },
  {
   "cell_type": "code",
   "execution_count": 28,
   "id": "8f37285f",
   "metadata": {},
   "outputs": [
    {
     "data": {
      "text/html": [
       "<div>\n",
       "<style scoped>\n",
       "    .dataframe tbody tr th:only-of-type {\n",
       "        vertical-align: middle;\n",
       "    }\n",
       "\n",
       "    .dataframe tbody tr th {\n",
       "        vertical-align: top;\n",
       "    }\n",
       "\n",
       "    .dataframe thead th {\n",
       "        text-align: right;\n",
       "    }\n",
       "</style>\n",
       "<table border=\"1\" class=\"dataframe\">\n",
       "  <thead>\n",
       "    <tr style=\"text-align: right;\">\n",
       "      <th></th>\n",
       "      <th>url</th>\n",
       "      <th>text</th>\n",
       "    </tr>\n",
       "  </thead>\n",
       "  <tbody>\n",
       "    <tr>\n",
       "      <th>count</th>\n",
       "      <td>3765</td>\n",
       "      <td>3181</td>\n",
       "    </tr>\n",
       "    <tr>\n",
       "      <th>unique</th>\n",
       "      <td>3764</td>\n",
       "      <td>2827</td>\n",
       "    </tr>\n",
       "    <tr>\n",
       "      <th>top</th>\n",
       "      <td>https://mrtopstep.com/peak-asset-morning-wrap-...</td>\n",
       "      <td></td>\n",
       "    </tr>\n",
       "    <tr>\n",
       "      <th>freq</th>\n",
       "      <td>2</td>\n",
       "      <td>103</td>\n",
       "    </tr>\n",
       "  </tbody>\n",
       "</table>\n",
       "</div>"
      ],
      "text/plain": [
       "                                                      url  text\n",
       "count                                                3765  3181\n",
       "unique                                               3764  2827\n",
       "top     https://mrtopstep.com/peak-asset-morning-wrap-...      \n",
       "freq                                                    2   103"
      ]
     },
     "execution_count": 28,
     "metadata": {},
     "output_type": "execute_result"
    }
   ],
   "source": [
    "news_link_test.describe()"
   ]
  },
  {
   "cell_type": "code",
   "execution_count": null,
   "id": "c00c540d",
   "metadata": {},
   "outputs": [],
   "source": [
    "# news_link_test.to_csv()"
   ]
  },
  {
   "cell_type": "markdown",
   "id": "9c9931b4",
   "metadata": {},
   "source": [
    "### News - Price Modelling\n",
    "\n",
    "Assume that news could have effect on prices in the following day, but the market still need several days to response. \n",
    "\n",
    "Issues: news might could be duplicate so that we need to remove \"duplicate\" news that covering the similar issues in continous days. \n",
    "\n",
    "#### Lithium Price \n",
    "\n",
    "Day-1, Day-2, Day-3, Day-6, Day-9, Day-12\n",
    "\n",
    "\n",
    "#### News Data Set Engineering: \n",
    "\n",
    "1) Vectorize the text data\n",
    "\n",
    "2) Cluster news based on the content similarity (giving a threshold);\n",
    "https://datarefiner.com/feed/why-tda \n",
    "\n",
    "3) Push the news to the earliest day;\n",
    "\n",
    "4) Create vocabulary to each day, vectorized using TD-IDF. \n",
    "\n",
    "**Using the vectors as features to build model (Random Forest, Linear Regression and etc.)**"
   ]
  },
  {
   "cell_type": "markdown",
   "id": "104ff9d4",
   "metadata": {},
   "source": [
    "## Vectorize for each article: \n",
    "\n",
    "Using TfidfVectorizer vectorize each article, and store data into h5ad files"
   ]
  },
  {
   "cell_type": "code",
   "execution_count": null,
   "id": "b639cbb7",
   "metadata": {},
   "outputs": [],
   "source": [
    "new_text "
   ]
  },
  {
   "cell_type": "code",
   "execution_count": 38,
   "id": "1ed2fc34",
   "metadata": {},
   "outputs": [],
   "source": [
    "news_link_test = news_link_test.reset_index()\n",
    "\n",
    "# filter out None in text \n",
    "news_link_test_filtered  = news_link_test.loc[news_link_test['text'].notnull()]\n",
    "X = news_link_test_filtered.text"
   ]
  },
  {
   "cell_type": "code",
   "execution_count": 1,
   "id": "f15a6b07",
   "metadata": {},
   "outputs": [
    {
     "ename": "NameError",
     "evalue": "name 'np' is not defined",
     "output_type": "error",
     "traceback": [
      "\u001b[0;31m---------------------------------------------------------------------------\u001b[0m",
      "\u001b[0;31mNameError\u001b[0m                                 Traceback (most recent call last)",
      "\u001b[0;32m<ipython-input-1-ffdc35143a1a>\u001b[0m in \u001b[0;36m<module>\u001b[0;34m\u001b[0m\n\u001b[1;32m      1\u001b[0m \u001b[0;32mfrom\u001b[0m \u001b[0msklearn\u001b[0m\u001b[0;34m.\u001b[0m\u001b[0mfeature_extraction\u001b[0m\u001b[0;34m.\u001b[0m\u001b[0mtext\u001b[0m \u001b[0;32mimport\u001b[0m \u001b[0mTfidfVectorizer\u001b[0m\u001b[0;34m\u001b[0m\u001b[0;34m\u001b[0m\u001b[0m\n\u001b[0;32m----> 2\u001b[0;31m \u001b[0mtfidf_vectorizer\u001b[0m \u001b[0;34m=\u001b[0m \u001b[0mTfidfVectorizer\u001b[0m\u001b[0;34m(\u001b[0m\u001b[0mstop_words\u001b[0m\u001b[0;34m=\u001b[0m\u001b[0;34m'english'\u001b[0m\u001b[0;34m,\u001b[0m \u001b[0mmax_df\u001b[0m\u001b[0;34m=\u001b[0m\u001b[0;36m0.8\u001b[0m\u001b[0;34m,\u001b[0m \u001b[0mmin_df\u001b[0m\u001b[0;34m=\u001b[0m\u001b[0;36m50\u001b[0m\u001b[0;34m/\u001b[0m\u001b[0;36m3181\u001b[0m\u001b[0;34m,\u001b[0m \u001b[0mngram_range\u001b[0m\u001b[0;34m=\u001b[0m\u001b[0;34m(\u001b[0m\u001b[0;36m1\u001b[0m\u001b[0;34m,\u001b[0m\u001b[0;36m1\u001b[0m\u001b[0;34m)\u001b[0m\u001b[0;34m)\u001b[0m\u001b[0;34m.\u001b[0m\u001b[0mfit\u001b[0m\u001b[0;34m(\u001b[0m\u001b[0mnp\u001b[0m\u001b[0;34m.\u001b[0m\u001b[0marray\u001b[0m\u001b[0;34m(\u001b[0m\u001b[0mX\u001b[0m\u001b[0;34m)\u001b[0m\u001b[0;34m)\u001b[0m\u001b[0;34m\u001b[0m\u001b[0;34m\u001b[0m\u001b[0m\n\u001b[0m\u001b[1;32m      3\u001b[0m \u001b[0mX_vect\u001b[0m \u001b[0;34m=\u001b[0m \u001b[0mtfidf_vectorizer\u001b[0m\u001b[0;34m.\u001b[0m\u001b[0mtransform\u001b[0m\u001b[0;34m(\u001b[0m\u001b[0mX\u001b[0m\u001b[0;34m)\u001b[0m\u001b[0;34m\u001b[0m\u001b[0;34m\u001b[0m\u001b[0m\n",
      "\u001b[0;31mNameError\u001b[0m: name 'np' is not defined"
     ]
    }
   ],
   "source": [
    "from sklearn.feature_extraction.text import TfidfVectorizer\n",
    "tfidf_vectorizer = TfidfVectorizer(stop_words='english', max_df=0.8, min_df=50/3181, ngram_range=(1,1)).fit(np.array(X))\n",
    "X_vect = tfidf_vectorizer.transform(X)"
   ]
  },
  {
   "cell_type": "code",
   "execution_count": 67,
   "id": "bc6376cf",
   "metadata": {},
   "outputs": [],
   "source": [
    "df_obs = news_link_test_filtered[['date', 'url', 'text']].reset_index(drop = True)\n",
    "adata_test = sc.AnnData(X_vect, obs = df_obs)"
   ]
  },
  {
   "cell_type": "code",
   "execution_count": 71,
   "id": "f55a122a",
   "metadata": {},
   "outputs": [],
   "source": [
    "# adata_test.write('Data/adata_test.h5ad', compression=\"gzip\")"
   ]
  }
 ],
 "metadata": {
  "kernelspec": {
   "display_name": "Python 3",
   "language": "python",
   "name": "python3"
  },
  "language_info": {
   "codemirror_mode": {
    "name": "ipython",
    "version": 3
   },
   "file_extension": ".py",
   "mimetype": "text/x-python",
   "name": "python",
   "nbconvert_exporter": "python",
   "pygments_lexer": "ipython3",
   "version": "3.8.5"
  }
 },
 "nbformat": 4,
 "nbformat_minor": 5
}
