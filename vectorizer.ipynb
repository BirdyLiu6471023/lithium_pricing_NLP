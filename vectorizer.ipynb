{
 "cells": [
  {
   "cell_type": "markdown",
   "id": "b04d0b8f",
   "metadata": {},
   "source": [
    "# News Dataset Engineering & Vectorization"
   ]
  },
  {
   "cell_type": "code",
   "execution_count": 1,
   "id": "c675474e",
   "metadata": {},
   "outputs": [],
   "source": [
    "## import library \n",
    "import warnings\n",
    "warnings.filterwarnings('ignore')"
   ]
  },
  {
   "cell_type": "markdown",
   "id": "5f821c80",
   "metadata": {},
   "source": [
    "## Data Cleaning"
   ]
  },
  {
   "cell_type": "code",
   "execution_count": 16,
   "id": "169f5682",
   "metadata": {},
   "outputs": [
    {
     "data": {
      "text/html": [
       "<div>\n",
       "<style scoped>\n",
       "    .dataframe tbody tr th:only-of-type {\n",
       "        vertical-align: middle;\n",
       "    }\n",
       "\n",
       "    .dataframe tbody tr th {\n",
       "        vertical-align: top;\n",
       "    }\n",
       "\n",
       "    .dataframe thead th {\n",
       "        text-align: right;\n",
       "    }\n",
       "</style>\n",
       "<table border=\"1\" class=\"dataframe\">\n",
       "  <thead>\n",
       "    <tr style=\"text-align: right;\">\n",
       "      <th></th>\n",
       "      <th>date</th>\n",
       "      <th>url</th>\n",
       "      <th>text</th>\n",
       "    </tr>\n",
       "  </thead>\n",
       "  <tbody>\n",
       "    <tr>\n",
       "      <th>0</th>\n",
       "      <td>2023-05-01</td>\n",
       "      <td>https://theenterpriseleader.com/2023/05/01/pie...</td>\n",
       "      <td>ad behind market interested weekthe single gre...</td>\n",
       "    </tr>\n",
       "    <tr>\n",
       "      <th>1</th>\n",
       "      <td>2023-05-01</td>\n",
       "      <td>https://markets.financialcontent.com/stocks/ar...</td>\n",
       "      <td>recent quote view full list watchlist create w...</td>\n",
       "    </tr>\n",
       "    <tr>\n",
       "      <th>2</th>\n",
       "      <td>2023-05-01</td>\n",
       "      <td>https://finance.yahoo.com/news/lithiumbank-app...</td>\n",
       "      <td>globenewswirelithiumbank appoints strategy exe...</td>\n",
       "    </tr>\n",
       "    <tr>\n",
       "      <th>3</th>\n",
       "      <td>2023-05-01</td>\n",
       "      <td>https://www.benzinga.com/pressreleases/23/05/g...</td>\n",
       "      <td>espa olindiaitalianofran aismy accountmy accou...</td>\n",
       "    </tr>\n",
       "    <tr>\n",
       "      <th>4</th>\n",
       "      <td>2023-05-01</td>\n",
       "      <td>https://www.juniorminingnetwork.com/junior-min...</td>\n",
       "      <td>foremost lithium completes successful initial ...</td>\n",
       "    </tr>\n",
       "    <tr>\n",
       "      <th>...</th>\n",
       "      <td>...</td>\n",
       "      <td>...</td>\n",
       "      <td>...</td>\n",
       "    </tr>\n",
       "    <tr>\n",
       "      <th>3760</th>\n",
       "      <td>2020-05-07</td>\n",
       "      <td>https://www.reuters.com/article/us-albemarle-t...</td>\n",
       "      <td>ernest scheyder min readreuters albemarle corp...</td>\n",
       "    </tr>\n",
       "    <tr>\n",
       "      <th>3761</th>\n",
       "      <td>2020-05-07</td>\n",
       "      <td>https://www.kitco.com/news/2020-05-07/UPDATE-1...</td>\n",
       "      <td>add detail greenbushes sale stock movement ern...</td>\n",
       "    </tr>\n",
       "    <tr>\n",
       "      <th>3762</th>\n",
       "      <td>2020-05-07</td>\n",
       "      <td>https://www.kitco.com/news/2020-05-07/UPDATE-2...</td>\n",
       "      <td>make kitco homepage login sign refresh page ho...</td>\n",
       "    </tr>\n",
       "    <tr>\n",
       "      <th>3763</th>\n",
       "      <td>2020-05-07</td>\n",
       "      <td>https://www.reuters.com/article/us-albemarle-t...</td>\n",
       "      <td>ernest scheyder min readreuters albemarle corp...</td>\n",
       "    </tr>\n",
       "    <tr>\n",
       "      <th>3764</th>\n",
       "      <td>2020-05-05</td>\n",
       "      <td>https://www.finanznachrichten.de/nachrichten-2...</td>\n",
       "      <td>anzeige mehr loginstartseitenachrichtennachric...</td>\n",
       "    </tr>\n",
       "  </tbody>\n",
       "</table>\n",
       "<p>3765 rows × 3 columns</p>\n",
       "</div>"
      ],
      "text/plain": [
       "            date                                                url  \\\n",
       "0     2023-05-01  https://theenterpriseleader.com/2023/05/01/pie...   \n",
       "1     2023-05-01  https://markets.financialcontent.com/stocks/ar...   \n",
       "2     2023-05-01  https://finance.yahoo.com/news/lithiumbank-app...   \n",
       "3     2023-05-01  https://www.benzinga.com/pressreleases/23/05/g...   \n",
       "4     2023-05-01  https://www.juniorminingnetwork.com/junior-min...   \n",
       "...          ...                                                ...   \n",
       "3760  2020-05-07  https://www.reuters.com/article/us-albemarle-t...   \n",
       "3761  2020-05-07  https://www.kitco.com/news/2020-05-07/UPDATE-1...   \n",
       "3762  2020-05-07  https://www.kitco.com/news/2020-05-07/UPDATE-2...   \n",
       "3763  2020-05-07  https://www.reuters.com/article/us-albemarle-t...   \n",
       "3764  2020-05-05  https://www.finanznachrichten.de/nachrichten-2...   \n",
       "\n",
       "                                                   text  \n",
       "0     ad behind market interested weekthe single gre...  \n",
       "1     recent quote view full list watchlist create w...  \n",
       "2     globenewswirelithiumbank appoints strategy exe...  \n",
       "3     espa olindiaitalianofran aismy accountmy accou...  \n",
       "4     foremost lithium completes successful initial ...  \n",
       "...                                                 ...  \n",
       "3760  ernest scheyder min readreuters albemarle corp...  \n",
       "3761  add detail greenbushes sale stock movement ern...  \n",
       "3762  make kitco homepage login sign refresh page ho...  \n",
       "3763  ernest scheyder min readreuters albemarle corp...  \n",
       "3764  anzeige mehr loginstartseitenachrichtennachric...  \n",
       "\n",
       "[3765 rows x 3 columns]"
      ]
     },
     "execution_count": 16,
     "metadata": {},
     "output_type": "execute_result"
    }
   ],
   "source": [
    "import pandas as pd \n",
    "news_test = pd.read_csv(\"Data/news_link_test_2020_05_to_2023_05.csv\")\n",
    "news_test"
   ]
  },
  {
   "cell_type": "code",
   "execution_count": 4,
   "id": "1d138aae",
   "metadata": {},
   "outputs": [
    {
     "name": "stdout",
     "output_type": "stream",
     "text": [
      "<class 'pandas.core.frame.DataFrame'>\n",
      "RangeIndex: 3765 entries, 0 to 3764\n",
      "Data columns (total 3 columns):\n",
      " #   Column  Non-Null Count  Dtype \n",
      "---  ------  --------------  ----- \n",
      " 0   date    3765 non-null   object\n",
      " 1   url     3765 non-null   object\n",
      " 2   text    3078 non-null   object\n",
      "dtypes: object(3)\n",
      "memory usage: 88.4+ KB\n"
     ]
    }
   ],
   "source": [
    "news_test.info()\n",
    "# there is null value in the dataset "
   ]
  },
  {
   "cell_type": "code",
   "execution_count": 25,
   "id": "c85a97f5",
   "metadata": {},
   "outputs": [],
   "source": [
    "# check if there is duplicate in the dataset: \n",
    "# df_count_text = pd.DataFrame(news_test.groupby(\"text\").count().sort_values(by=\"url\"))\n",
    "# df_count_text[df_count_text.url > 1]"
   ]
  },
  {
   "cell_type": "code",
   "execution_count": 5,
   "id": "a090b5c5",
   "metadata": {},
   "outputs": [],
   "source": [
    "# only retain the text that with the ealiest date: \n",
    "\n",
    "news_test = news_test.sort_values(['text', 'date'])\n",
    "# Drop duplicates, keep the first occurrence which is the earliest date\n",
    "news_test_filtered = news_test.drop_duplicates(subset='text', keep='first')\\\n",
    "                    .loc[news_test['text'].notnull()]"
   ]
  },
  {
   "cell_type": "code",
   "execution_count": 6,
   "id": "beff8228",
   "metadata": {},
   "outputs": [
    {
     "name": "stdout",
     "output_type": "stream",
     "text": [
      "<class 'pandas.core.frame.DataFrame'>\n",
      "Int64Index: 2826 entries, 3132 to 668\n",
      "Data columns (total 3 columns):\n",
      " #   Column  Non-Null Count  Dtype \n",
      "---  ------  --------------  ----- \n",
      " 0   date    2826 non-null   object\n",
      " 1   url     2826 non-null   object\n",
      " 2   text    2826 non-null   object\n",
      "dtypes: object(3)\n",
      "memory usage: 88.3+ KB\n"
     ]
    }
   ],
   "source": [
    "news_test_filtered.info()"
   ]
  },
  {
   "cell_type": "code",
   "execution_count": 7,
   "id": "9da9365f",
   "metadata": {},
   "outputs": [
    {
     "data": {
      "text/html": [
       "<div>\n",
       "<style scoped>\n",
       "    .dataframe tbody tr th:only-of-type {\n",
       "        vertical-align: middle;\n",
       "    }\n",
       "\n",
       "    .dataframe tbody tr th {\n",
       "        vertical-align: top;\n",
       "    }\n",
       "\n",
       "    .dataframe thead th {\n",
       "        text-align: right;\n",
       "    }\n",
       "</style>\n",
       "<table border=\"1\" class=\"dataframe\">\n",
       "  <thead>\n",
       "    <tr style=\"text-align: right;\">\n",
       "      <th></th>\n",
       "      <th>date</th>\n",
       "      <th>url</th>\n",
       "      <th>text</th>\n",
       "    </tr>\n",
       "  </thead>\n",
       "  <tbody>\n",
       "    <tr>\n",
       "      <th>count</th>\n",
       "      <td>2826</td>\n",
       "      <td>2826</td>\n",
       "      <td>2826</td>\n",
       "    </tr>\n",
       "    <tr>\n",
       "      <th>unique</th>\n",
       "      <td>793</td>\n",
       "      <td>2826</td>\n",
       "      <td>2826</td>\n",
       "    </tr>\n",
       "    <tr>\n",
       "      <th>top</th>\n",
       "      <td>2023-04-21</td>\n",
       "      <td>https://abcnews.go.com/US/nevada-sees-lithium-...</td>\n",
       "      <td>abc newsvideoliveshowselectionsinterest succes...</td>\n",
       "    </tr>\n",
       "    <tr>\n",
       "      <th>freq</th>\n",
       "      <td>48</td>\n",
       "      <td>1</td>\n",
       "      <td>1</td>\n",
       "    </tr>\n",
       "  </tbody>\n",
       "</table>\n",
       "</div>"
      ],
      "text/plain": [
       "              date                                                url  \\\n",
       "count         2826                                               2826   \n",
       "unique         793                                               2826   \n",
       "top     2023-04-21  https://abcnews.go.com/US/nevada-sees-lithium-...   \n",
       "freq            48                                                  1   \n",
       "\n",
       "                                                     text  \n",
       "count                                                2826  \n",
       "unique                                               2826  \n",
       "top     abc newsvideoliveshowselectionsinterest succes...  \n",
       "freq                                                    1  "
      ]
     },
     "execution_count": 7,
     "metadata": {},
     "output_type": "execute_result"
    }
   ],
   "source": [
    "news_test_filtered.describe()"
   ]
  },
  {
   "cell_type": "code",
   "execution_count": 8,
   "id": "6f46f720",
   "metadata": {},
   "outputs": [
    {
     "data": {
      "text/html": [
       "<div>\n",
       "<style scoped>\n",
       "    .dataframe tbody tr th:only-of-type {\n",
       "        vertical-align: middle;\n",
       "    }\n",
       "\n",
       "    .dataframe tbody tr th {\n",
       "        vertical-align: top;\n",
       "    }\n",
       "\n",
       "    .dataframe thead th {\n",
       "        text-align: right;\n",
       "    }\n",
       "</style>\n",
       "<table border=\"1\" class=\"dataframe\">\n",
       "  <thead>\n",
       "    <tr style=\"text-align: right;\">\n",
       "      <th></th>\n",
       "      <th>date</th>\n",
       "      <th>url</th>\n",
       "      <th>text</th>\n",
       "    </tr>\n",
       "  </thead>\n",
       "  <tbody>\n",
       "    <tr>\n",
       "      <th>3132</th>\n",
       "      <td>2021-04-23</td>\n",
       "      <td>https://abcnews.go.com/US/nevada-sees-lithium-...</td>\n",
       "      <td>abc newsvideoliveshowselectionsinterest succes...</td>\n",
       "    </tr>\n",
       "    <tr>\n",
       "      <th>485</th>\n",
       "      <td>2023-03-09</td>\n",
       "      <td>https://kvia.com/news/2023/03/09/why-lithium-i...</td>\n",
       "      <td>abcfirst alert heat lateday storm threat</td>\n",
       "    </tr>\n",
       "    <tr>\n",
       "      <th>721</th>\n",
       "      <td>2023-01-30</td>\n",
       "      <td>https://www.prnewswire.com/news-releases/abtc-...</td>\n",
       "      <td>abtc prepares commission lithiumion battery re...</td>\n",
       "    </tr>\n",
       "    <tr>\n",
       "      <th>2337</th>\n",
       "      <td>2021-12-27</td>\n",
       "      <td>https://newsheater.com/2021/12/27/your-finance...</td>\n",
       "      <td>acadia healthcare company inc achc share decli...</td>\n",
       "    </tr>\n",
       "    <tr>\n",
       "      <th>3002</th>\n",
       "      <td>2021-06-20</td>\n",
       "      <td>https://timesofindia.indiatimes.com/blogs/Masq...</td>\n",
       "      <td>accept update privacy cookie policy use cooky ...</td>\n",
       "    </tr>\n",
       "  </tbody>\n",
       "</table>\n",
       "</div>"
      ],
      "text/plain": [
       "            date                                                url  \\\n",
       "3132  2021-04-23  https://abcnews.go.com/US/nevada-sees-lithium-...   \n",
       "485   2023-03-09  https://kvia.com/news/2023/03/09/why-lithium-i...   \n",
       "721   2023-01-30  https://www.prnewswire.com/news-releases/abtc-...   \n",
       "2337  2021-12-27  https://newsheater.com/2021/12/27/your-finance...   \n",
       "3002  2021-06-20  https://timesofindia.indiatimes.com/blogs/Masq...   \n",
       "\n",
       "                                                   text  \n",
       "3132  abc newsvideoliveshowselectionsinterest succes...  \n",
       "485            abcfirst alert heat lateday storm threat  \n",
       "721   abtc prepares commission lithiumion battery re...  \n",
       "2337  acadia healthcare company inc achc share decli...  \n",
       "3002  accept update privacy cookie policy use cooky ...  "
      ]
     },
     "execution_count": 8,
     "metadata": {},
     "output_type": "execute_result"
    }
   ],
   "source": [
    "news_test_filtered.head()"
   ]
  },
  {
   "cell_type": "code",
   "execution_count": 9,
   "id": "c0ebec7b",
   "metadata": {},
   "outputs": [
    {
     "data": {
      "text/html": [
       "<div>\n",
       "<style scoped>\n",
       "    .dataframe tbody tr th:only-of-type {\n",
       "        vertical-align: middle;\n",
       "    }\n",
       "\n",
       "    .dataframe tbody tr th {\n",
       "        vertical-align: top;\n",
       "    }\n",
       "\n",
       "    .dataframe thead th {\n",
       "        text-align: right;\n",
       "    }\n",
       "</style>\n",
       "<table border=\"1\" class=\"dataframe\">\n",
       "  <thead>\n",
       "    <tr style=\"text-align: right;\">\n",
       "      <th></th>\n",
       "      <th>date</th>\n",
       "      <th>url</th>\n",
       "      <th>text</th>\n",
       "    </tr>\n",
       "  </thead>\n",
       "  <tbody>\n",
       "    <tr>\n",
       "      <th>0</th>\n",
       "      <td>2023-05-01</td>\n",
       "      <td>https://theenterpriseleader.com/2023/05/01/pie...</td>\n",
       "      <td>ad behind market interested weekthe single gre...</td>\n",
       "    </tr>\n",
       "    <tr>\n",
       "      <th>1</th>\n",
       "      <td>2023-05-01</td>\n",
       "      <td>https://www.juniorminingnetwork.com/junior-min...</td>\n",
       "      <td>foremost lithium completes successful initial ...</td>\n",
       "    </tr>\n",
       "    <tr>\n",
       "      <th>2</th>\n",
       "      <td>2023-05-01</td>\n",
       "      <td>https://www.naturalnews.com/2023-05-01-sodium-...</td>\n",
       "      <td>home brighteon prep mike interview audio book ...</td>\n",
       "    </tr>\n",
       "    <tr>\n",
       "      <th>3</th>\n",
       "      <td>2023-05-01</td>\n",
       "      <td>https://markets.financialcontent.com/stocks/ar...</td>\n",
       "      <td>recent quote view full list watchlist create w...</td>\n",
       "    </tr>\n",
       "    <tr>\n",
       "      <th>4</th>\n",
       "      <td>2023-05-01</td>\n",
       "      <td>https://www.theglobeandmail.com/investing/mark...</td>\n",
       "      <td>stock leadersenbt cnqt atht hutt cvet trpt tdt...</td>\n",
       "    </tr>\n",
       "  </tbody>\n",
       "</table>\n",
       "</div>"
      ],
      "text/plain": [
       "         date                                                url  \\\n",
       "0  2023-05-01  https://theenterpriseleader.com/2023/05/01/pie...   \n",
       "1  2023-05-01  https://www.juniorminingnetwork.com/junior-min...   \n",
       "2  2023-05-01  https://www.naturalnews.com/2023-05-01-sodium-...   \n",
       "3  2023-05-01  https://markets.financialcontent.com/stocks/ar...   \n",
       "4  2023-05-01  https://www.theglobeandmail.com/investing/mark...   \n",
       "\n",
       "                                                text  \n",
       "0  ad behind market interested weekthe single gre...  \n",
       "1  foremost lithium completes successful initial ...  \n",
       "2  home brighteon prep mike interview audio book ...  \n",
       "3  recent quote view full list watchlist create w...  \n",
       "4  stock leadersenbt cnqt atht hutt cvet trpt tdt...  "
      ]
     },
     "execution_count": 9,
     "metadata": {},
     "output_type": "execute_result"
    }
   ],
   "source": [
    "# we need to make the file sorted by date \n",
    "news_test_filtered = news_test_filtered.sort_values(['date'], ascending = False).reset_index(drop = True)\n",
    "news_test_filtered.head()"
   ]
  },
  {
   "cell_type": "markdown",
   "id": "00fc8995",
   "metadata": {},
   "source": [
    "## Vectorization "
   ]
  },
  {
   "cell_type": "code",
   "execution_count": 10,
   "id": "8e71d119",
   "metadata": {},
   "outputs": [],
   "source": [
    "from sklearn.feature_extraction.text import TfidfVectorizer\n",
    "import numpy as np\n",
    "import scanpy as sc "
   ]
  },
  {
   "cell_type": "code",
   "execution_count": 12,
   "id": "855d2a72",
   "metadata": {},
   "outputs": [],
   "source": [
    "X = news_test_filtered.text"
   ]
  },
  {
   "cell_type": "code",
   "execution_count": 13,
   "id": "75a8b6d8",
   "metadata": {},
   "outputs": [],
   "source": [
    "tfidf_vectorizer = TfidfVectorizer(stop_words='english', max_df=0.8, min_df=50/3181, ngram_range=(1,1)).fit(np.array(X))\n",
    "X_vect = tfidf_vectorizer.transform(X)"
   ]
  },
  {
   "cell_type": "code",
   "execution_count": null,
   "id": "cd27f2b0",
   "metadata": {},
   "outputs": [],
   "source": []
  },
  {
   "cell_type": "code",
   "execution_count": 14,
   "id": "7d929a38",
   "metadata": {},
   "outputs": [],
   "source": [
    "vocabulary = tfidf_vectorizer.get_feature_names()\n",
    "df_vocabulary = pd.DataFrame(index=vocabulary)\n",
    "df_obs = news_test_filtered[['date', 'url', 'text']].reset_index(drop = True)\n",
    "adata_test = sc.AnnData(X_vect, obs = df_obs, var = df_vocabulary)"
   ]
  },
  {
   "cell_type": "code",
   "execution_count": 15,
   "id": "a645f8ad",
   "metadata": {},
   "outputs": [],
   "source": [
    "adata_test.write('adata_test.h5ad', compression=\"gzip\")"
   ]
  },
  {
   "cell_type": "code",
   "execution_count": null,
   "id": "9d9a7d25",
   "metadata": {},
   "outputs": [],
   "source": []
  }
 ],
 "metadata": {
  "kernelspec": {
   "display_name": "Python 3",
   "language": "python",
   "name": "python3"
  },
  "language_info": {
   "codemirror_mode": {
    "name": "ipython",
    "version": 3
   },
   "file_extension": ".py",
   "mimetype": "text/x-python",
   "name": "python",
   "nbconvert_exporter": "python",
   "pygments_lexer": "ipython3",
   "version": "3.8.5"
  }
 },
 "nbformat": 4,
 "nbformat_minor": 5
}
